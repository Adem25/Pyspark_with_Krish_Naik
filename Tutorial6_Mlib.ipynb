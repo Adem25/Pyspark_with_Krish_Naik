{
 "cells": [
  {
   "cell_type": "markdown",
   "id": "4b110915-1da0-4f76-b113-ab695798b3fd",
   "metadata": {},
   "source": [
    "## Examples of PySpark ML"
   ]
  },
  {
   "cell_type": "code",
   "execution_count": 1,
   "id": "c9e5d56d-3767-4683-9455-05151e9bfad9",
   "metadata": {},
   "outputs": [],
   "source": [
    "from pyspark.sql import SparkSession"
   ]
  },
  {
   "cell_type": "code",
   "execution_count": 2,
   "id": "e55dd3de-3d5b-4102-8718-b0a65c2f345d",
   "metadata": {},
   "outputs": [],
   "source": [
    "spark=SparkSession.builder.appName('Missing').getOrCreate()"
   ]
  },
  {
   "cell_type": "code",
   "execution_count": 3,
   "id": "7f3127d4-dcc4-457e-b597-d08131d61a0a",
   "metadata": {},
   "outputs": [
    {
     "name": "stdout",
     "output_type": "stream",
     "text": [
      "+-----+---+----------+------+\n",
      "| Name|Age|Experience|Salary|\n",
      "+-----+---+----------+------+\n",
      "|  Max| 31|        10| 30000|\n",
      "|Abdel| 30|         8| 25000|\n",
      "| Manu| 29|         4| 20000|\n",
      "| Paul| 24|         3| 20000|\n",
      "|Kevin| 21|         1| 15000|\n",
      "|Jonas| 23|         2| 18000|\n",
      "+-----+---+----------+------+\n",
      "\n"
     ]
    }
   ],
   "source": [
    "training=spark.read.csv('test4.csv', sep=';', header=True, inferSchema=True)\n",
    "training.show()"
   ]
  },
  {
   "cell_type": "code",
   "execution_count": 4,
   "id": "f41bc72b-16fc-4ad9-8d4c-540878179569",
   "metadata": {},
   "outputs": [],
   "source": [
    "# [Age, Experience] --> new feature --> independent feature"
   ]
  },
  {
   "cell_type": "code",
   "execution_count": 5,
   "id": "3841947d-e09d-43e1-af16-ecdb9c4a760d",
   "metadata": {},
   "outputs": [],
   "source": [
    "from pyspark.ml.feature import VectorAssembler"
   ]
  },
  {
   "cell_type": "code",
   "execution_count": 10,
   "id": "86112b55-679a-4c14-9964-a2d33a170b23",
   "metadata": {},
   "outputs": [
    {
     "data": {
      "text/plain": [
       "VectorAssembler_32ed72d7a19f"
      ]
     },
     "execution_count": 10,
     "metadata": {},
     "output_type": "execute_result"
    }
   ],
   "source": [
    "featureassembler=VectorAssembler(inputCols=['Age', 'Experience'], outputCol='Independent features')\n",
    "featureassembler"
   ]
  },
  {
   "cell_type": "code",
   "execution_count": 8,
   "id": "8737b396-cadc-4478-a1c1-1d8e70af30d2",
   "metadata": {},
   "outputs": [
    {
     "name": "stdout",
     "output_type": "stream",
     "text": [
      "+-----+---+----------+------+--------------------+\n",
      "| Name|Age|Experience|Salary|Independent features|\n",
      "+-----+---+----------+------+--------------------+\n",
      "|  Max| 31|        10| 30000|         [31.0,10.0]|\n",
      "|Abdel| 30|         8| 25000|          [30.0,8.0]|\n",
      "| Manu| 29|         4| 20000|          [29.0,4.0]|\n",
      "| Paul| 24|         3| 20000|          [24.0,3.0]|\n",
      "|Kevin| 21|         1| 15000|          [21.0,1.0]|\n",
      "|Jonas| 23|         2| 18000|          [23.0,2.0]|\n",
      "+-----+---+----------+------+--------------------+\n",
      "\n"
     ]
    }
   ],
   "source": [
    "output=featureassembler.transform(training)\n",
    "output.show()"
   ]
  },
  {
   "cell_type": "code",
   "execution_count": 12,
   "id": "13577ea9-bfb8-4229-9b60-261fe918e36a",
   "metadata": {},
   "outputs": [
    {
     "name": "stdout",
     "output_type": "stream",
     "text": [
      "+--------------------+------+\n",
      "|Independent features|Salary|\n",
      "+--------------------+------+\n",
      "|         [31.0,10.0]| 30000|\n",
      "|          [30.0,8.0]| 25000|\n",
      "|          [29.0,4.0]| 20000|\n",
      "|          [24.0,3.0]| 20000|\n",
      "|          [21.0,1.0]| 15000|\n",
      "|          [23.0,2.0]| 18000|\n",
      "+--------------------+------+\n",
      "\n"
     ]
    }
   ],
   "source": [
    "finalized_data=output.select('Independent features', 'Salary')\n",
    "finalized_data.show()"
   ]
  },
  {
   "cell_type": "code",
   "execution_count": 14,
   "id": "54250cdb-8726-4e13-bc22-c720ec139176",
   "metadata": {},
   "outputs": [],
   "source": [
    "from pyspark.ml.regression import LinearRegression\n",
    "train_data, test_data=finalized_data.randomSplit([0.75, 0.25])\n",
    "regressor=LinearRegression(featuresCol='Independent features', labelCol='Salary')\n",
    "regressor=regressor.fit(train_data)"
   ]
  },
  {
   "cell_type": "code",
   "execution_count": 15,
   "id": "53c29e17-3104-45d5-8d94-f64a83a2cae9",
   "metadata": {},
   "outputs": [
    {
     "data": {
      "text/plain": [
       "DenseVector([-90.5483, 1608.7819])"
      ]
     },
     "execution_count": 15,
     "metadata": {},
     "output_type": "execute_result"
    }
   ],
   "source": [
    "regressor.coefficients"
   ]
  },
  {
   "cell_type": "code",
   "execution_count": 16,
   "id": "b84c2c15-d695-4d0a-9bec-d19812b8df32",
   "metadata": {},
   "outputs": [
    {
     "data": {
      "text/plain": [
       "16079.136690647425"
      ]
     },
     "execution_count": 16,
     "metadata": {},
     "output_type": "execute_result"
    }
   ],
   "source": [
    "regressor.intercept"
   ]
  },
  {
   "cell_type": "code",
   "execution_count": 17,
   "id": "dd66ecdb-69ca-46b7-b78f-fc8efc12f279",
   "metadata": {},
   "outputs": [],
   "source": [
    "pred_results=regressor.evaluate(test_data)"
   ]
  },
  {
   "cell_type": "code",
   "execution_count": 18,
   "id": "fd189063-1573-42cd-bdad-1a9b58e62106",
   "metadata": {},
   "outputs": [
    {
     "name": "stdout",
     "output_type": "stream",
     "text": [
      "+--------------------+------+-----------------+\n",
      "|Independent features|Salary|       prediction|\n",
      "+--------------------+------+-----------------+\n",
      "|          [23.0,2.0]| 18000|17214.09079632846|\n",
      "+--------------------+------+-----------------+\n",
      "\n"
     ]
    }
   ],
   "source": [
    "pred_results.predictions.show()"
   ]
  },
  {
   "cell_type": "code",
   "execution_count": null,
   "id": "7c22ae21-2603-4147-8ba5-9df670a4d9d5",
   "metadata": {},
   "outputs": [],
   "source": []
  }
 ],
 "metadata": {
  "kernelspec": {
   "display_name": "Python 3 (ipykernel)",
   "language": "python",
   "name": "python3"
  },
  "language_info": {
   "codemirror_mode": {
    "name": "ipython",
    "version": 3
   },
   "file_extension": ".py",
   "mimetype": "text/x-python",
   "name": "python",
   "nbconvert_exporter": "python",
   "pygments_lexer": "ipython3",
   "version": "3.12.2"
  }
 },
 "nbformat": 4,
 "nbformat_minor": 5
}
