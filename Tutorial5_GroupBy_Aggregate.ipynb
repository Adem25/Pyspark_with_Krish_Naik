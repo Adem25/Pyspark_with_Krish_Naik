{
 "cells": [
  {
   "cell_type": "markdown",
   "id": "f2000cfb-a7d7-4559-895f-605cfa493ec9",
   "metadata": {},
   "source": [
    "## Pyspark grouby and aggregate functions"
   ]
  },
  {
   "cell_type": "code",
   "execution_count": 1,
   "id": "6b1ceba8-0a0a-4f98-ab3c-94cfdbb15d4e",
   "metadata": {},
   "outputs": [],
   "source": [
    "from pyspark.sql import SparkSession"
   ]
  },
  {
   "cell_type": "code",
   "execution_count": 2,
   "id": "f4b26c99-948a-45a5-863b-4fadc0d0afda",
   "metadata": {},
   "outputs": [],
   "source": [
    "spark=SparkSession.builder.appName('Agg').getOrCreate()"
   ]
  },
  {
   "cell_type": "code",
   "execution_count": 5,
   "id": "ec143f02-cc37-4d28-a1d3-ac33e6a7ef96",
   "metadata": {},
   "outputs": [
    {
     "name": "stdout",
     "output_type": "stream",
     "text": [
      "+-----+------------+------+\n",
      "| Name| Departments|Salary|\n",
      "+-----+------------+------+\n",
      "|  Max|Data Science| 10000|\n",
      "|Abdel|         IOT|  5000|\n",
      "| Manu|    Big Data|  4000|\n",
      "| Paul|    Big Data|  4000|\n",
      "|Kevin|Data Science|  3000|\n",
      "|Jonas|Data Science| 20000|\n",
      "| Paul|         IOT| 10000|\n",
      "|Abdel|    Big Data|  5000|\n",
      "| Manu|Data Science| 10000|\n",
      "|  Max|    Big Data|  2000|\n",
      "+-----+------------+------+\n",
      "\n"
     ]
    }
   ],
   "source": [
    "df_pyspark=spark.read.csv('test5.csv', sep=';', header=True, inferSchema=True)\n",
    "df_pyspark.show()"
   ]
  },
  {
   "cell_type": "code",
   "execution_count": 7,
   "id": "12feae14-0428-48bc-84b4-3c96eec55170",
   "metadata": {},
   "outputs": [
    {
     "name": "stdout",
     "output_type": "stream",
     "text": [
      "+-----+-----------+\n",
      "| Name|sum(Salary)|\n",
      "+-----+-----------+\n",
      "| Manu|      14000|\n",
      "|Abdel|      10000|\n",
      "|Kevin|       3000|\n",
      "|Jonas|      20000|\n",
      "|  Max|      12000|\n",
      "| Paul|      14000|\n",
      "+-----+-----------+\n",
      "\n"
     ]
    }
   ],
   "source": [
    "# GroupBy\n",
    "# Grouped to find max salaray\n",
    "df_pyspark.groupBy('Name').sum().show()"
   ]
  },
  {
   "cell_type": "code",
   "execution_count": 8,
   "id": "97c60a38-e2d0-4f63-9e39-cf878a63a8e3",
   "metadata": {},
   "outputs": [
    {
     "name": "stdout",
     "output_type": "stream",
     "text": [
      "+------------+-----------+\n",
      "| Departments|sum(Salary)|\n",
      "+------------+-----------+\n",
      "|         IOT|      15000|\n",
      "|    Big Data|      15000|\n",
      "|Data Science|      43000|\n",
      "+------------+-----------+\n",
      "\n"
     ]
    }
   ],
   "source": [
    "# Groupby departments which gives max salaray\n",
    "df_pyspark.groupBy('Departments').sum().show()"
   ]
  },
  {
   "cell_type": "code",
   "execution_count": 9,
   "id": "765dea0c-f999-413d-9c91-3b9f571982a4",
   "metadata": {},
   "outputs": [
    {
     "name": "stdout",
     "output_type": "stream",
     "text": [
      "+------------+-----------+\n",
      "| Departments|avg(Salary)|\n",
      "+------------+-----------+\n",
      "|         IOT|     7500.0|\n",
      "|    Big Data|     3750.0|\n",
      "|Data Science|    10750.0|\n",
      "+------------+-----------+\n",
      "\n"
     ]
    }
   ],
   "source": [
    "df_pyspark.groupBy('Departments').mean().show()"
   ]
  },
  {
   "cell_type": "code",
   "execution_count": 10,
   "id": "bf332d56-70bc-42a0-b476-5caca5ef86ba",
   "metadata": {},
   "outputs": [
    {
     "name": "stdout",
     "output_type": "stream",
     "text": [
      "+------------+-----+\n",
      "| Departments|count|\n",
      "+------------+-----+\n",
      "|         IOT|    2|\n",
      "|    Big Data|    4|\n",
      "|Data Science|    4|\n",
      "+------------+-----+\n",
      "\n"
     ]
    }
   ],
   "source": [
    "df_pyspark.groupBy('Departments').count().show()"
   ]
  },
  {
   "cell_type": "code",
   "execution_count": 12,
   "id": "1d0fc0d4-c9a3-4bc7-8480-7db6ebea9983",
   "metadata": {},
   "outputs": [
    {
     "name": "stdout",
     "output_type": "stream",
     "text": [
      "+-----------+\n",
      "|sum(Salary)|\n",
      "+-----------+\n",
      "|      73000|\n",
      "+-----------+\n",
      "\n"
     ]
    }
   ],
   "source": [
    "df_pyspark.agg({'Salary':'sum'}).show()"
   ]
  },
  {
   "cell_type": "code",
   "execution_count": 15,
   "id": "1c3d4bdf-1df7-4908-b7a5-1465987873c8",
   "metadata": {},
   "outputs": [
    {
     "name": "stdout",
     "output_type": "stream",
     "text": [
      "+-----+-----------+\n",
      "| Name|max(Salary)|\n",
      "+-----+-----------+\n",
      "| Manu|      10000|\n",
      "|Abdel|       5000|\n",
      "|Kevin|       3000|\n",
      "|Jonas|      20000|\n",
      "|  Max|      10000|\n",
      "| Paul|      10000|\n",
      "+-----+-----------+\n",
      "\n"
     ]
    }
   ],
   "source": [
    "df_pyspark.groupBy('Name').max().show()"
   ]
  },
  {
   "cell_type": "code",
   "execution_count": null,
   "id": "5d69432f-2dc1-441d-8684-a0b6cecf5451",
   "metadata": {},
   "outputs": [],
   "source": []
  }
 ],
 "metadata": {
  "kernelspec": {
   "display_name": "Python 3 (ipykernel)",
   "language": "python",
   "name": "python3"
  },
  "language_info": {
   "codemirror_mode": {
    "name": "ipython",
    "version": 3
   },
   "file_extension": ".py",
   "mimetype": "text/x-python",
   "name": "python",
   "nbconvert_exporter": "python",
   "pygments_lexer": "ipython3",
   "version": "3.12.2"
  }
 },
 "nbformat": 4,
 "nbformat_minor": 5
}
