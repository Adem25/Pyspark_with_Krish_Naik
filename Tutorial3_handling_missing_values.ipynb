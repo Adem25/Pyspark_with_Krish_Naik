{
 "cells": [
  {
   "cell_type": "markdown",
   "id": "c5a17436-15f5-4a0f-bd0e-01653763b6d5",
   "metadata": {},
   "source": [
    "# Pyspark handling missing values:\n",
    "- Dropping columns\n",
    "- Dropping rows\n",
    "- Various parameter in dropping functionalities\n",
    "- Handling missing values by mean, median and mode"
   ]
  },
  {
   "cell_type": "markdown",
   "id": "1bcefdbe-71d2-4e86-beca-dc1da7b2984f",
   "metadata": {},
   "source": [
    "### Notes: \n",
    "To see describtion from a function, place the cursor on the python function in question and press shift-Tab"
   ]
  },
  {
   "cell_type": "code",
   "execution_count": 1,
   "id": "094d9307-2236-4f59-bd7d-d19a65419f63",
   "metadata": {},
   "outputs": [],
   "source": [
    "from pyspark.sql import SparkSession"
   ]
  },
  {
   "cell_type": "code",
   "execution_count": 2,
   "id": "187817bd-53b1-43e8-95a2-3b935bf7c516",
   "metadata": {},
   "outputs": [],
   "source": [
    "spark=SparkSession.builder.appName('Practise').getOrCreate()"
   ]
  },
  {
   "cell_type": "code",
   "execution_count": 6,
   "id": "3d6a823e-5a12-4a4d-accd-515c6695caf7",
   "metadata": {},
   "outputs": [
    {
     "name": "stdout",
     "output_type": "stream",
     "text": [
      "+-----+----+----------+------+\n",
      "| Name| Age|Experience|Salary|\n",
      "+-----+----+----------+------+\n",
      "|  Max|  31|        10| 30000|\n",
      "|Abdel|  30|         8| 25000|\n",
      "| Manu|  29|         4| 20000|\n",
      "| Paul|  24|         3| 20000|\n",
      "|Kevin|  21|         1| 15000|\n",
      "|Jonas|  23|         2| 18000|\n",
      "| Ertu|null|      null| 40000|\n",
      "| null|  34|        10| 38000|\n",
      "| null|  36|      null|  null|\n",
      "+-----+----+----------+------+\n",
      "\n"
     ]
    }
   ],
   "source": [
    "df_pyspark=spark.read.csv('test3.csv', sep=';', header=True, inferSchema=True)\n",
    "df_pyspark.show()"
   ]
  },
  {
   "cell_type": "code",
   "execution_count": 7,
   "id": "d4adc29e-bd9f-41c0-b92c-c7bf42394eed",
   "metadata": {},
   "outputs": [
    {
     "name": "stdout",
     "output_type": "stream",
     "text": [
      "+----+----------+------+\n",
      "| Age|Experience|Salary|\n",
      "+----+----------+------+\n",
      "|  31|        10| 30000|\n",
      "|  30|         8| 25000|\n",
      "|  29|         4| 20000|\n",
      "|  24|         3| 20000|\n",
      "|  21|         1| 15000|\n",
      "|  23|         2| 18000|\n",
      "|null|      null| 40000|\n",
      "|  34|        10| 38000|\n",
      "|  36|      null|  null|\n",
      "+----+----------+------+\n",
      "\n"
     ]
    }
   ],
   "source": [
    "# Drop column\n",
    "df_pyspark.drop('Name').show()"
   ]
  },
  {
   "cell_type": "code",
   "execution_count": 8,
   "id": "7daf0a46-ae56-4b8d-8fe9-2f406ba6b04d",
   "metadata": {},
   "outputs": [
    {
     "name": "stdout",
     "output_type": "stream",
     "text": [
      "+-----+---+----------+------+\n",
      "| Name|Age|Experience|Salary|\n",
      "+-----+---+----------+------+\n",
      "|  Max| 31|        10| 30000|\n",
      "|Abdel| 30|         8| 25000|\n",
      "| Manu| 29|         4| 20000|\n",
      "| Paul| 24|         3| 20000|\n",
      "|Kevin| 21|         1| 15000|\n",
      "|Jonas| 23|         2| 18000|\n",
      "+-----+---+----------+------+\n",
      "\n"
     ]
    }
   ],
   "source": [
    "df_pyspark.na.drop().show() # drops all rows where null "
   ]
  },
  {
   "cell_type": "code",
   "execution_count": 17,
   "id": "6999d14f-2ac3-42e0-84a7-b55cd6a41a0c",
   "metadata": {},
   "outputs": [
    {
     "name": "stdout",
     "output_type": "stream",
     "text": [
      "+-----+---+----------+------+\n",
      "| Name|Age|Experience|Salary|\n",
      "+-----+---+----------+------+\n",
      "|  Max| 31|        10| 30000|\n",
      "|Abdel| 30|         8| 25000|\n",
      "| Manu| 29|         4| 20000|\n",
      "| Paul| 24|         3| 20000|\n",
      "|Kevin| 21|         1| 15000|\n",
      "|Jonas| 23|         2| 18000|\n",
      "+-----+---+----------+------+\n",
      "\n"
     ]
    }
   ],
   "source": [
    "# how = any\n",
    "df_pyspark.na.drop(how='any').show()"
   ]
  },
  {
   "cell_type": "code",
   "execution_count": 16,
   "id": "c6434c97-e253-478c-b48f-a6f0d1a1e523",
   "metadata": {},
   "outputs": [
    {
     "name": "stdout",
     "output_type": "stream",
     "text": [
      "+-----+----+----------+------+\n",
      "| Name| Age|Experience|Salary|\n",
      "+-----+----+----------+------+\n",
      "|  Max|  31|        10| 30000|\n",
      "|Abdel|  30|         8| 25000|\n",
      "| Manu|  29|         4| 20000|\n",
      "| Paul|  24|         3| 20000|\n",
      "|Kevin|  21|         1| 15000|\n",
      "|Jonas|  23|         2| 18000|\n",
      "| Ertu|null|      null| 40000|\n",
      "| null|  34|        10| 38000|\n",
      "+-----+----+----------+------+\n",
      "\n"
     ]
    }
   ],
   "source": [
    "# threshold =  rop rows that have less than `thresh` non-null values\n",
    "df_pyspark.na.drop(how='any', thresh=2).show()"
   ]
  },
  {
   "cell_type": "code",
   "execution_count": 19,
   "id": "7e343e6e-fb94-4c70-aca3-61e7736a4e67",
   "metadata": {},
   "outputs": [
    {
     "name": "stdout",
     "output_type": "stream",
     "text": [
      "+-----+---+----------+------+\n",
      "| Name|Age|Experience|Salary|\n",
      "+-----+---+----------+------+\n",
      "|  Max| 31|        10| 30000|\n",
      "|Abdel| 30|         8| 25000|\n",
      "| Manu| 29|         4| 20000|\n",
      "| Paul| 24|         3| 20000|\n",
      "|Kevin| 21|         1| 15000|\n",
      "|Jonas| 23|         2| 18000|\n",
      "| null| 34|        10| 38000|\n",
      "+-----+---+----------+------+\n",
      "\n"
     ]
    }
   ],
   "source": [
    "# Subset\n",
    "df_pyspark.na.drop(how='any', subset=['Experience']).show()"
   ]
  },
  {
   "cell_type": "code",
   "execution_count": 24,
   "id": "03eaea11-f087-4d1c-bf57-4d356f014df3",
   "metadata": {},
   "outputs": [
    {
     "name": "stdout",
     "output_type": "stream",
     "text": [
      "+--------------+----+----------+------+\n",
      "|          Name| Age|Experience|Salary|\n",
      "+--------------+----+----------+------+\n",
      "|           Max|  31|        10| 30000|\n",
      "|         Abdel|  30|         8| 25000|\n",
      "|          Manu|  29|         4| 20000|\n",
      "|          Paul|  24|         3| 20000|\n",
      "|         Kevin|  21|         1| 15000|\n",
      "|         Jonas|  23|         2| 18000|\n",
      "|          Ertu|null|      null| 40000|\n",
      "|Missing Values|  34|        10| 38000|\n",
      "|Missing Values|  36|      null|  null|\n",
      "+--------------+----+----------+------+\n",
      "\n"
     ]
    }
   ],
   "source": [
    "# Filling missing value\n",
    "df_pyspark.na.fill('Missing Values').show() # only for string "
   ]
  },
  {
   "cell_type": "code",
   "execution_count": 27,
   "id": "c056a027-7e15-488c-9b7a-23c8f00b1ed3",
   "metadata": {},
   "outputs": [
    {
     "name": "stdout",
     "output_type": "stream",
     "text": [
      "+--------------+----+----------+------+\n",
      "|          Name| Age|Experience|Salary|\n",
      "+--------------+----+----------+------+\n",
      "|           Max|  31|        10| 30000|\n",
      "|         Abdel|  30|         8| 25000|\n",
      "|          Manu|  29|         4| 20000|\n",
      "|          Paul|  24|         3| 20000|\n",
      "|         Kevin|  21|         1| 15000|\n",
      "|         Jonas|  23|         2| 18000|\n",
      "|          Ertu|null|      null| 40000|\n",
      "|Missing Values|  34|        10| 38000|\n",
      "|Missing Values|  36|      null|  null|\n",
      "+--------------+----+----------+------+\n",
      "\n"
     ]
    }
   ],
   "source": [
    "df_pyspark.na.fill('Missing Values', ['Name', 'Age']).show()"
   ]
  },
  {
   "cell_type": "code",
   "execution_count": 33,
   "id": "745c9069-4771-4521-890f-6de0a9de7b43",
   "metadata": {},
   "outputs": [],
   "source": [
    "from pyspark.ml.feature import Imputer\n",
    "\n",
    "imputer = Imputer(inputCols=['Age', 'Experience', 'Salary'], \n",
    "                  outputCols=[\"{}_imputed\".format(c) for c in ['Age', 'Experience', 'Salary']]).setStrategy(\"mean\") # change strategy to median or mode"
   ]
  },
  {
   "cell_type": "code",
   "execution_count": 32,
   "id": "85912cb4-6b55-4c2c-9a90-be0644bbc003",
   "metadata": {},
   "outputs": [
    {
     "name": "stdout",
     "output_type": "stream",
     "text": [
      "+-----+----+----------+------+-----------+------------------+--------------+\n",
      "| Name| Age|Experience|Salary|Age_imputed|Experience_imputed|Salary_imputed|\n",
      "+-----+----+----------+------+-----------+------------------+--------------+\n",
      "|  Max|  31|        10| 30000|         31|                10|         30000|\n",
      "|Abdel|  30|         8| 25000|         30|                 8|         25000|\n",
      "| Manu|  29|         4| 20000|         29|                 4|         20000|\n",
      "| Paul|  24|         3| 20000|         24|                 3|         20000|\n",
      "|Kevin|  21|         1| 15000|         21|                 1|         15000|\n",
      "|Jonas|  23|         2| 18000|         23|                 2|         18000|\n",
      "| Ertu|null|      null| 40000|         28|                 5|         40000|\n",
      "| null|  34|        10| 38000|         34|                10|         38000|\n",
      "| null|  36|      null|  null|         36|                 5|         25750|\n",
      "+-----+----+----------+------+-----------+------------------+--------------+\n",
      "\n"
     ]
    }
   ],
   "source": [
    "imputer.fit(df_pyspark).transform(df_pyspark).show()"
   ]
  },
  {
   "cell_type": "code",
   "execution_count": null,
   "id": "924e8cdf-b65d-46bf-82e8-4488cf437806",
   "metadata": {},
   "outputs": [],
   "source": []
  }
 ],
 "metadata": {
  "kernelspec": {
   "display_name": "Python 3 (ipykernel)",
   "language": "python",
   "name": "python3"
  },
  "language_info": {
   "codemirror_mode": {
    "name": "ipython",
    "version": 3
   },
   "file_extension": ".py",
   "mimetype": "text/x-python",
   "name": "python",
   "nbconvert_exporter": "python",
   "pygments_lexer": "ipython3",
   "version": "3.12.2"
  }
 },
 "nbformat": 4,
 "nbformat_minor": 5
}
