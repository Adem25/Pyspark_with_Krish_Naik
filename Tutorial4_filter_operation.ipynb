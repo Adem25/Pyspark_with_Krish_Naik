{
 "cells": [
  {
   "cell_type": "markdown",
   "id": "5cff09b1-e8e4-4cd5-8001-e5dfa33dad77",
   "metadata": {},
   "source": [
    "## Pyspark Dataframes\n",
    "- Filter Operation\n",
    "- &, | , ==\n",
    "- ~"
   ]
  },
  {
   "cell_type": "code",
   "execution_count": 1,
   "id": "1bbbac3e-ba6c-499a-a039-b4ccbeee03ee",
   "metadata": {},
   "outputs": [],
   "source": [
    "from pyspark.sql import SparkSession"
   ]
  },
  {
   "cell_type": "code",
   "execution_count": 5,
   "id": "d30dded2-17cf-434b-890e-30ca91f544cd",
   "metadata": {},
   "outputs": [],
   "source": [
    "spark=SparkSession.builder.appName('dataframe').getOrCreate()"
   ]
  },
  {
   "cell_type": "code",
   "execution_count": 6,
   "id": "a646a57e-587b-4165-9e61-f0976a6ef761",
   "metadata": {},
   "outputs": [
    {
     "name": "stdout",
     "output_type": "stream",
     "text": [
      "+-----+---+----------+------+\n",
      "| Name|Age|Experience|Salary|\n",
      "+-----+---+----------+------+\n",
      "|  Max| 31|        10| 30000|\n",
      "|Abdel| 30|         8| 25000|\n",
      "| Manu| 29|         4| 20000|\n",
      "| Paul| 24|         3| 20000|\n",
      "|Kevin| 21|         1| 15000|\n",
      "|Jonas| 23|         2| 18000|\n",
      "+-----+---+----------+------+\n",
      "\n"
     ]
    }
   ],
   "source": [
    "df_pyspark=spark.read.csv('test4.csv', sep=';', header=True, inferSchema=True)\n",
    "df_pyspark.show()"
   ]
  },
  {
   "cell_type": "markdown",
   "id": "7d3e5102-313e-42ee-9b76-4a723ebff01e",
   "metadata": {},
   "source": [
    "### Filter operations"
   ]
  },
  {
   "cell_type": "code",
   "execution_count": 7,
   "id": "14fb0e0c-baf7-4966-a25c-d8834219da5e",
   "metadata": {},
   "outputs": [
    {
     "name": "stdout",
     "output_type": "stream",
     "text": [
      "+-----+---+----------+------+\n",
      "| Name|Age|Experience|Salary|\n",
      "+-----+---+----------+------+\n",
      "| Manu| 29|         4| 20000|\n",
      "| Paul| 24|         3| 20000|\n",
      "|Kevin| 21|         1| 15000|\n",
      "|Jonas| 23|         2| 18000|\n",
      "+-----+---+----------+------+\n",
      "\n"
     ]
    }
   ],
   "source": [
    "# Salaray of the people less than or equal to 20000\n",
    "df_pyspark.filter(\"Salary<=20000\").show()"
   ]
  },
  {
   "cell_type": "code",
   "execution_count": 8,
   "id": "72587857-5c02-47f5-ace4-24083dab7fe1",
   "metadata": {},
   "outputs": [
    {
     "name": "stdout",
     "output_type": "stream",
     "text": [
      "+-----+---+\n",
      "| Name|Age|\n",
      "+-----+---+\n",
      "| Manu| 29|\n",
      "| Paul| 24|\n",
      "|Kevin| 21|\n",
      "|Jonas| 23|\n",
      "+-----+---+\n",
      "\n"
     ]
    }
   ],
   "source": [
    "df_pyspark.filter(\"Salary<=20000\").select(['Name', 'Age']).show()"
   ]
  },
  {
   "cell_type": "code",
   "execution_count": 9,
   "id": "7447ef1b-5449-4e38-a5e7-be2ef7cc7915",
   "metadata": {},
   "outputs": [
    {
     "name": "stdout",
     "output_type": "stream",
     "text": [
      "+-----+---+----------+------+\n",
      "| Name|Age|Experience|Salary|\n",
      "+-----+---+----------+------+\n",
      "| Manu| 29|         4| 20000|\n",
      "| Paul| 24|         3| 20000|\n",
      "|Kevin| 21|         1| 15000|\n",
      "|Jonas| 23|         2| 18000|\n",
      "+-----+---+----------+------+\n",
      "\n"
     ]
    }
   ],
   "source": [
    "df_pyspark.filter(df_pyspark['Salary']<=20000).show()"
   ]
  },
  {
   "cell_type": "code",
   "execution_count": 12,
   "id": "c73434a7-f24e-407c-8452-43f253ca8635",
   "metadata": {},
   "outputs": [
    {
     "name": "stdout",
     "output_type": "stream",
     "text": [
      "+-----+---+----------+------+\n",
      "| Name|Age|Experience|Salary|\n",
      "+-----+---+----------+------+\n",
      "|  Max| 31|        10| 30000|\n",
      "|Abdel| 30|         8| 25000|\n",
      "| Manu| 29|         4| 20000|\n",
      "| Paul| 24|         3| 20000|\n",
      "|Kevin| 21|         1| 15000|\n",
      "|Jonas| 23|         2| 18000|\n",
      "+-----+---+----------+------+\n",
      "\n"
     ]
    }
   ],
   "source": [
    "df_pyspark.filter((df_pyspark['Salary']<=20000) |\n",
    "                  (df_pyspark['Salary']>=15000)).show()"
   ]
  },
  {
   "cell_type": "code",
   "execution_count": 14,
   "id": "d1830d9e-6f98-4436-8b53-62601221704c",
   "metadata": {},
   "outputs": [
    {
     "name": "stdout",
     "output_type": "stream",
     "text": [
      "+-----+---+----------+------+\n",
      "| Name|Age|Experience|Salary|\n",
      "+-----+---+----------+------+\n",
      "|  Max| 31|        10| 30000|\n",
      "|Abdel| 30|         8| 25000|\n",
      "+-----+---+----------+------+\n",
      "\n"
     ]
    }
   ],
   "source": [
    "df_pyspark.filter(~(df_pyspark['Salary']<=20000)).show() # inverse opaertion like ! in c"
   ]
  },
  {
   "cell_type": "code",
   "execution_count": null,
   "id": "85c6a952-a1e8-4c13-8237-ea07c5da0d68",
   "metadata": {},
   "outputs": [],
   "source": []
  }
 ],
 "metadata": {
  "kernelspec": {
   "display_name": "Python 3 (ipykernel)",
   "language": "python",
   "name": "python3"
  },
  "language_info": {
   "codemirror_mode": {
    "name": "ipython",
    "version": 3
   },
   "file_extension": ".py",
   "mimetype": "text/x-python",
   "name": "python",
   "nbconvert_exporter": "python",
   "pygments_lexer": "ipython3",
   "version": "3.12.2"
  }
 },
 "nbformat": 4,
 "nbformat_minor": 5
}
